{
 "cells": [
  {
   "cell_type": "code",
   "execution_count": 1,
   "metadata": {
    "collapsed": true,
    "scrolled": true
   },
   "outputs": [],
   "source": [
    "import numpy as np\n",
    "import matplotlib.pyplot as plt\n",
    "from PyMOID import moid,moid_from_simulation"
   ]
  },
  {
   "cell_type": "code",
   "execution_count": 2,
   "metadata": {},
   "outputs": [
    {
     "data": {
      "text/plain": [
       "0.24521440655831864"
      ]
     },
     "execution_count": 2,
     "metadata": {},
     "output_type": "execute_result"
    }
   ],
   "source": [
    "# Re-produce example here: https://github.com/mkretlow/MOID.jl \n",
    "deg2rad = np.pi/180\n",
    "ceres = [2.7691652, 0.0760091,  deg2rad*73.59764,  deg2rad*80.30553, deg2rad*10.59407]\n",
    "urania = [2.3655722, 0.127581 , deg2rad*87.42605, deg2rad*307.46872, deg2rad*2.09575]\n",
    "moid(*ceres,*urania)"
   ]
  },
  {
   "cell_type": "code",
   "execution_count": 3,
   "metadata": {},
   "outputs": [
    {
     "data": {
      "text/plain": [
       "0.2452144065583263"
      ]
     },
     "execution_count": 3,
     "metadata": {},
     "output_type": "execute_result"
    }
   ],
   "source": [
    "# Same example, but with a rebound simulation\n",
    "import rebound as rb\n",
    "sim = rb.Simulation()\n",
    "sim.add(m=1)\n",
    "for body in [ceres,urania]:\n",
    "    a,e,omega,Omega,inc = body\n",
    "    sim.add(a=a,e=e,omega=omega,Omega=Omega,inc=inc)\n",
    "sim.move_to_com()\n",
    "moid_from_simulation(sim)"
   ]
  },
  {
   "cell_type": "code",
   "execution_count": 4,
   "metadata": {},
   "outputs": [
    {
     "name": "stdout",
     "output_type": "stream",
     "text": [
      "Searching NASA Horizons for 'Sun'... Found: Sun (10).\n",
      "Searching NASA Horizons for 'Mercury'... Found: Mercury Barycenter (199).\n",
      "Searching NASA Horizons for 'Venus'... Found: Venus Barycenter (299).\n"
     ]
    },
    {
     "data": {
      "text/plain": [
       "0.26145701500758384"
      ]
     },
     "execution_count": 4,
     "metadata": {},
     "output_type": "execute_result"
    }
   ],
   "source": [
    "# Mercury-Venus MOID\n",
    "sim = rb.Simulation()\n",
    "sim.add('Sun')\n",
    "sim.add('Mercury')\n",
    "sim.add('Venus')\n",
    "sim.move_to_com()\n",
    "moid_from_simulation(sim)"
   ]
  },
  {
   "cell_type": "code",
   "execution_count": null,
   "metadata": {
    "collapsed": true
   },
   "outputs": [],
   "source": []
  }
 ],
 "metadata": {
  "kernelspec": {
   "display_name": "Python 3",
   "language": "python",
   "name": "python3"
  },
  "language_info": {
   "codemirror_mode": {
    "name": "ipython",
    "version": 3
   },
   "file_extension": ".py",
   "mimetype": "text/x-python",
   "name": "python",
   "nbconvert_exporter": "python",
   "pygments_lexer": "ipython3",
   "version": "3.6.8"
  }
 },
 "nbformat": 4,
 "nbformat_minor": 2
}
